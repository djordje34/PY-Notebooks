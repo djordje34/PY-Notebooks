{
 "cells": [
  {
   "cell_type": "markdown",
   "id": "0cbc7ed8",
   "metadata": {},
   "source": [
    "# Analyzing Machine Learning algorithms using grid search"
   ]
  },
  {
   "cell_type": "markdown",
   "id": "6638e285",
   "metadata": {},
   "source": [
    "### Following and modifiying a tutorial given by https://towardsdatascience.com/a-beginners-guide-to-text-classification-with-scikit-learn-632357e16f3a"
   ]
  },
  {
   "cell_type": "markdown",
   "id": "9091a192",
   "metadata": {},
   "source": [
    "## Data analysis"
   ]
  },
  {
   "cell_type": "markdown",
   "id": "f1dcf33f",
   "metadata": {},
   "source": [
    "Analyzing performance of the given algorithms for text sentiment classification - IMDb dataset.\n",
    "\n",
    "Algorithms that will be analyzed are given with the next list:\n",
    "* Decision Tree\n",
    "* Support Vector Machine(s)\n",
    "* Logistic Regression\n",
    "First and foremost, loading the dataset using *pandas* library."
   ]
  },
  {
   "cell_type": "code",
   "execution_count": 1,
   "id": "8fd6ab6c",
   "metadata": {},
   "outputs": [],
   "source": [
    "import pandas as pd\n",
    "\n",
    "df = pd.read_csv(r\"C:\\Users\\Djordje\\Downloads\\IMDB Dataset.csv\")\n",
    "\n",
    "df_pos = df[df['sentiment']=='positive'][:5000]\n",
    "df_neg = df[df['sentiment']=='negative'][:5000]\n",
    "df = pd.concat([df_pos, df_neg])"
   ]
  },
  {
   "cell_type": "markdown",
   "id": "ba8ba405",
   "metadata": {},
   "source": [
    "Loaded Dataframe contains user reviews and related sentiment (positive or negative):"
   ]
  },
  {
   "cell_type": "code",
   "execution_count": 2,
   "id": "a6652f17",
   "metadata": {},
   "outputs": [
    {
     "data": {
      "text/html": [
       "<div>\n",
       "<style scoped>\n",
       "    .dataframe tbody tr th:only-of-type {\n",
       "        vertical-align: middle;\n",
       "    }\n",
       "\n",
       "    .dataframe tbody tr th {\n",
       "        vertical-align: top;\n",
       "    }\n",
       "\n",
       "    .dataframe thead th {\n",
       "        text-align: right;\n",
       "    }\n",
       "</style>\n",
       "<table border=\"1\" class=\"dataframe\">\n",
       "  <thead>\n",
       "    <tr style=\"text-align: right;\">\n",
       "      <th></th>\n",
       "      <th>review</th>\n",
       "      <th>sentiment</th>\n",
       "    </tr>\n",
       "  </thead>\n",
       "  <tbody>\n",
       "    <tr>\n",
       "      <th>0</th>\n",
       "      <td>One of the other reviewers has mentioned that ...</td>\n",
       "      <td>positive</td>\n",
       "    </tr>\n",
       "    <tr>\n",
       "      <th>1</th>\n",
       "      <td>A wonderful little production. &lt;br /&gt;&lt;br /&gt;The...</td>\n",
       "      <td>positive</td>\n",
       "    </tr>\n",
       "    <tr>\n",
       "      <th>2</th>\n",
       "      <td>I thought this was a wonderful way to spend ti...</td>\n",
       "      <td>positive</td>\n",
       "    </tr>\n",
       "    <tr>\n",
       "      <th>4</th>\n",
       "      <td>Petter Mattei's \"Love in the Time of Money\" is...</td>\n",
       "      <td>positive</td>\n",
       "    </tr>\n",
       "    <tr>\n",
       "      <th>5</th>\n",
       "      <td>Probably my all-time favorite movie, a story o...</td>\n",
       "      <td>positive</td>\n",
       "    </tr>\n",
       "    <tr>\n",
       "      <th>...</th>\n",
       "      <td>...</td>\n",
       "      <td>...</td>\n",
       "    </tr>\n",
       "    <tr>\n",
       "      <th>10038</th>\n",
       "      <td>It SURPRISINGLY had a plot! ;) I've seen movie...</td>\n",
       "      <td>negative</td>\n",
       "    </tr>\n",
       "    <tr>\n",
       "      <th>10039</th>\n",
       "      <td>I suppose I'm supposed to take something like ...</td>\n",
       "      <td>negative</td>\n",
       "    </tr>\n",
       "    <tr>\n",
       "      <th>10044</th>\n",
       "      <td>This is strictly for Pryor fans. Just because ...</td>\n",
       "      <td>negative</td>\n",
       "    </tr>\n",
       "    <tr>\n",
       "      <th>10047</th>\n",
       "      <td>The only saving grace of this movie is that it...</td>\n",
       "      <td>negative</td>\n",
       "    </tr>\n",
       "    <tr>\n",
       "      <th>10048</th>\n",
       "      <td>This may contain ***SPOILERS***&lt;br /&gt;&lt;br /&gt;Whe...</td>\n",
       "      <td>negative</td>\n",
       "    </tr>\n",
       "  </tbody>\n",
       "</table>\n",
       "<p>10000 rows × 2 columns</p>\n",
       "</div>"
      ],
      "text/plain": [
       "                                                  review sentiment\n",
       "0      One of the other reviewers has mentioned that ...  positive\n",
       "1      A wonderful little production. <br /><br />The...  positive\n",
       "2      I thought this was a wonderful way to spend ti...  positive\n",
       "4      Petter Mattei's \"Love in the Time of Money\" is...  positive\n",
       "5      Probably my all-time favorite movie, a story o...  positive\n",
       "...                                                  ...       ...\n",
       "10038  It SURPRISINGLY had a plot! ;) I've seen movie...  negative\n",
       "10039  I suppose I'm supposed to take something like ...  negative\n",
       "10044  This is strictly for Pryor fans. Just because ...  negative\n",
       "10047  The only saving grace of this movie is that it...  negative\n",
       "10048  This may contain ***SPOILERS***<br /><br />Whe...  negative\n",
       "\n",
       "[10000 rows x 2 columns]"
      ]
     },
     "execution_count": 2,
     "metadata": {},
     "output_type": "execute_result"
    }
   ],
   "source": [
    "df"
   ]
  },
  {
   "cell_type": "markdown",
   "id": "1cbf8faf",
   "metadata": {},
   "source": [
    "To visually represent given dataset:"
   ]
  },
  {
   "cell_type": "code",
   "execution_count": 3,
   "id": "235e28b4",
   "metadata": {},
   "outputs": [
    {
     "data": {
      "text/plain": [
       "<AxesSubplot:>"
      ]
     },
     "execution_count": 3,
     "metadata": {},
     "output_type": "execute_result"
    },
    {
     "data": {
      "image/png": "[encoded data removed]",
      "text/plain": [
       "<Figure size 432x288 with 1 Axes>"
      ]
     },
     "metadata": {
      "needs_background": "light"
     },
     "output_type": "display_data"
    }
   ],
   "source": [
    "import matplotlib.pyplot as plt\n",
    "colors = ['#165BAA', '#d62828']\n",
    "df.sentiment.value_counts().plot(kind='bar',color=colors)"
   ]
  },
  {
   "cell_type": "markdown",
   "id": "5ac11521",
   "metadata": {},
   "source": [
    "Classes are fairly balanced."
   ]
  },
  {
   "cell_type": "markdown",
   "id": "ca15c5ce",
   "metadata": {},
   "source": [
    "To train any machine learning model, this dataset needs to be shuffled and split into test and train datasets. Shuffling ensures generalization ability of a model. \n",
    "\n",
    "This particular dataset contains independent attribute *review* which can be classified as _negative_ or _positive_ sentiment. The idea is to train a particular model to predict sentiment from the review and then test its ability on test set."
   ]
  },
  {
   "cell_type": "code",
   "execution_count": 4,
   "id": "86de3686",
   "metadata": {},
   "outputs": [],
   "source": [
    "from sklearn.model_selection import train_test_split\n",
    "\n",
    "train, test = train_test_split(df, test_size=0.25, random_state=42)\n",
    "train_x, train_y = train.review, train.sentiment\n",
    "test_x, test_y = test.review, test.sentiment"
   ]
  },
  {
   "cell_type": "markdown",
   "id": "90c757c7",
   "metadata": {},
   "source": [
    "Dataset is split into train set, which contains 75% of observations, and test set, containing the rest. "
   ]
  },
  {
   "cell_type": "markdown",
   "id": "f55c3bd4",
   "metadata": {},
   "source": [
    "This dataset consists of textual reviews. For a machine to be able to process it correctly, it needs to be converted to a numeric dataset. One way of doing this is to identify unique words of interest in each of the sentiment classes, by having them represented by a vector of weighted values corresponding to each word's frequency in a review. These values are in range (0-1) and their value increases proportionately to it's corresponding word's frequency. This technique is known as TF-IDF Vectorization."
   ]
  },
  {
   "cell_type": "code",
   "execution_count": 5,
   "id": "ef0550c3",
   "metadata": {},
   "outputs": [],
   "source": [
    "from sklearn.feature_extraction.text import TfidfVectorizer\n",
    "tfidf = TfidfVectorizer(stop_words='english')\n",
    "train_x = tfidf.fit_transform(train_x)"
   ]
  },
  {
   "cell_type": "code",
   "execution_count": 6,
   "id": "52b6c969",
   "metadata": {
    "scrolled": true
   },
   "outputs": [
    {
     "data": {
      "text/plain": [
       "<7500x46285 sparse matrix of type '<class 'numpy.float64'>'\n",
       "\twith 667581 stored elements in Compressed Sparse Row format>"
      ]
     },
     "execution_count": 6,
     "metadata": {},
     "output_type": "execute_result"
    }
   ],
   "source": [
    "train_x"
   ]
  },
  {
   "cell_type": "markdown",
   "id": "02a99508",
   "metadata": {},
   "source": [
    "Attributes and features used for training the models are now represented by a sparse matrix with cells containing TF-IDF vectorized values.\\\n",
    "Next step is to do the same with test dataset features."
   ]
  },
  {
   "cell_type": "code",
   "execution_count": 7,
   "id": "98b2c38c",
   "metadata": {},
   "outputs": [],
   "source": [
    "test_x = tfidf.transform(test_x)"
   ]
  },
  {
   "cell_type": "markdown",
   "id": "28b515d4",
   "metadata": {},
   "source": [
    "## Machine learning models comparison and selection"
   ]
  },
  {
   "cell_type": "markdown",
   "id": "990c69bb",
   "metadata": {},
   "source": [
    "This problem represents a classification problem, inputs and outputs are labeled and specified, so the preferred algorithms to solve this problem are Supervised learning algorithms."
   ]
  },
  {
   "cell_type": "markdown",
   "id": "c035c0c3",
   "metadata": {},
   "source": [
    "### Support Vector Machines"
   ]
  },
  {
   "cell_type": "code",
   "execution_count": 8,
   "id": "c53e0165",
   "metadata": {},
   "outputs": [
    {
     "data": {
      "text/plain": [
       "SVC(kernel='linear')"
      ]
     },
     "execution_count": 8,
     "metadata": {},
     "output_type": "execute_result"
    }
   ],
   "source": [
    "from sklearn.svm import SVC\n",
    "\n",
    "svc = SVC(kernel='linear')\n",
    "svc.fit(train_x, train_y)"
   ]
  },
  {
   "cell_type": "markdown",
   "id": "9975c8a1",
   "metadata": {},
   "source": [
    "Adding a few generic reviews to test model's ability to predict the sentiment"
   ]
  },
  {
   "cell_type": "code",
   "execution_count": 9,
   "id": "e6edfdc7",
   "metadata": {},
   "outputs": [
    {
     "name": "stdout",
     "output_type": "stream",
     "text": [
      "['positive']\n",
      "['positive']\n",
      "['negative']\n"
     ]
    }
   ],
   "source": [
    "print(svc.predict(tfidf.transform(['A truly great movie.'])))\n",
    "print(svc.predict(tfidf.transform(['A masterpiece.'])))\n",
    "print(svc.predict(tfidf.transform(['Incredibly bad movie. Very predictable plot.'])))"
   ]
  },
  {
   "cell_type": "markdown",
   "id": "63320306",
   "metadata": {},
   "source": [
    "## Decision Tree"
   ]
  },
  {
   "cell_type": "markdown",
   "id": "f997ad71",
   "metadata": {},
   "source": [
    "Repeat the same process for the Decision Tree classifier."
   ]
  },
  {
   "cell_type": "code",
   "execution_count": 10,
   "id": "b4b18bb8",
   "metadata": {},
   "outputs": [
    {
     "data": {
      "text/plain": [
       "DecisionTreeClassifier()"
      ]
     },
     "execution_count": 10,
     "metadata": {},
     "output_type": "execute_result"
    }
   ],
   "source": [
    "from sklearn.tree import DecisionTreeClassifier\n",
    "\n",
    "tree = DecisionTreeClassifier()\n",
    "tree.fit(train_x, train_y)"
   ]
  },
  {
   "cell_type": "code",
   "execution_count": 11,
   "id": "1ac6ecae",
   "metadata": {},
   "outputs": [
    {
     "name": "stdout",
     "output_type": "stream",
     "text": [
      "['positive']\n",
      "['positive']\n",
      "['negative']\n"
     ]
    }
   ],
   "source": [
    "print(tree.predict(tfidf.transform(['A truly great movie.'])))\n",
    "print(tree.predict(tfidf.transform(['A masterpiece.'])))\n",
    "print(tree.predict(tfidf.transform(['Incredibly bad movie. Very predictable plot.'])))"
   ]
  },
  {
   "cell_type": "markdown",
   "id": "970ec903",
   "metadata": {},
   "source": [
    "## Logistic Regression"
   ]
  },
  {
   "cell_type": "markdown",
   "id": "566356c4",
   "metadata": {},
   "source": [
    "... And once again, for the Logistic Regression classifier."
   ]
  },
  {
   "cell_type": "code",
   "execution_count": 12,
   "id": "8ec0d4e9",
   "metadata": {},
   "outputs": [
    {
     "data": {
      "text/plain": [
       "LogisticRegression()"
      ]
     },
     "execution_count": 12,
     "metadata": {},
     "output_type": "execute_result"
    }
   ],
   "source": [
    "from sklearn.linear_model import LogisticRegression\n",
    "\n",
    "lr = LogisticRegression()\n",
    "lr.fit(train_x, train_y)"
   ]
  },
  {
   "cell_type": "code",
   "execution_count": 13,
   "id": "b4aaebd0",
   "metadata": {},
   "outputs": [
    {
     "name": "stdout",
     "output_type": "stream",
     "text": [
      "['positive']\n",
      "['positive']\n",
      "['negative']\n"
     ]
    }
   ],
   "source": [
    "print(lr.predict(tfidf.transform(['A truly great movie.'])))\n",
    "print(lr.predict(tfidf.transform(['A masterpiece.'])))\n",
    "print(lr.predict(tfidf.transform(['Incredibly bad movie. Very predictable plot.'])))"
   ]
  },
  {
   "cell_type": "markdown",
   "id": "5b3afcc6",
   "metadata": {},
   "source": [
    "## Evaluation"
   ]
  },
  {
   "cell_type": "markdown",
   "id": "9857cba4",
   "metadata": {},
   "source": [
    "Evaluating each of the model's ability to predict correct sentiment using different metrics. Using sklearn integrated function _f1_score_ generates an array with 2 elements, corresponding to scores for predicting positive and negative labels, respectively."
   ]
  },
  {
   "cell_type": "code",
   "execution_count": 14,
   "id": "4bee9f2c",
   "metadata": {},
   "outputs": [
    {
     "name": "stdout",
     "output_type": "stream",
     "text": [
      "[0.87962234 0.87550854]\n",
      "[0.71867612 0.70999188]\n",
      "[0.88188976 0.87804878]\n"
     ]
    }
   ],
   "source": [
    "from sklearn.metrics import f1_score\n",
    "\n",
    "print(f1_score(test_y, svc.predict(test_x),labels=['positive', 'negative'],average=None))\n",
    "print(f1_score(test_y, tree.predict(test_x),labels=['positive', 'negative'],average=None))\n",
    "print(f1_score(test_y, lr.predict(test_x),labels=['positive', 'negative'],average=None))"
   ]
  },
  {
   "cell_type": "markdown",
   "id": "a8ec60c2",
   "metadata": {},
   "source": [
    "To generate a report on each of the model's ability to predict a sentiment correctly, another sklearn function is used."
   ]
  },
  {
   "cell_type": "code",
   "execution_count": 15,
   "id": "de511e84",
   "metadata": {},
   "outputs": [
    {
     "name": "stdout",
     "output_type": "stream",
     "text": [
      "SVM\n",
      "              precision    recall  f1-score   support\n",
      "\n",
      "    positive       0.88      0.88      0.88      1272\n",
      "    negative       0.87      0.88      0.88      1228\n",
      "\n",
      "    accuracy                           0.88      2500\n",
      "   macro avg       0.88      0.88      0.88      2500\n",
      "weighted avg       0.88      0.88      0.88      2500\n",
      "\n",
      "Decision Tree\n",
      "              precision    recall  f1-score   support\n",
      "\n",
      "    positive       0.72      0.72      0.72      1272\n",
      "    negative       0.71      0.71      0.71      1228\n",
      "\n",
      "    accuracy                           0.71      2500\n",
      "   macro avg       0.71      0.71      0.71      2500\n",
      "weighted avg       0.71      0.71      0.71      2500\n",
      "\n",
      "Logistic Regression\n",
      "              precision    recall  f1-score   support\n",
      "\n",
      "    positive       0.88      0.88      0.88      1272\n",
      "    negative       0.88      0.88      0.88      1228\n",
      "\n",
      "    accuracy                           0.88      2500\n",
      "   macro avg       0.88      0.88      0.88      2500\n",
      "weighted avg       0.88      0.88      0.88      2500\n",
      "\n"
     ]
    }
   ],
   "source": [
    "from sklearn.metrics import classification_report\n",
    "\n",
    "print(f\"SVM\\n{classification_report(test_y, svc.predict(test_x),labels=['positive', 'negative'])}\")\n",
    "print(f\"Decision Tree\\n{classification_report(test_y, tree.predict(test_x),labels=['positive', 'negative'])}\")\n",
    "print(f\"Logistic Regression\\n{classification_report(test_y, lr.predict(test_x),labels=['positive', 'negative'])}\")"
   ]
  },
  {
   "cell_type": "markdown",
   "id": "14e7071a",
   "metadata": {},
   "source": [
    "Support Vector Machines and Logistic Regression are performing great, while Decision Tree has some issues."
   ]
  },
  {
   "cell_type": "markdown",
   "id": "66e8ad82",
   "metadata": {},
   "source": [
    "## Fine tuning"
   ]
  },
  {
   "cell_type": "markdown",
   "id": "9b10cba2",
   "metadata": {},
   "source": [
    "Fine tuning machine learning models represents searching for the best combination of hyperparameters of that model in hyperparameter space."
   ]
  },
  {
   "cell_type": "code",
   "execution_count": 16,
   "id": "376c17e8",
   "metadata": {},
   "outputs": [
    {
     "name": "stdout",
     "output_type": "stream",
     "text": [
      "{'C': 4, 'kernel': 'rbf'}\n",
      "SVC(C=4)\n",
      "0.8812\n"
     ]
    }
   ],
   "source": [
    "from sklearn.model_selection import GridSearchCV\n",
    "import numpy as np\n",
    "\n",
    "#defining hyperparameter space\n",
    "svc_param = {'C': [1,2,4], 'kernel':['linear', 'rbf']}\n",
    "\n",
    "#searching the space\n",
    "svc = SVC()\n",
    "svc_grid = GridSearchCV(svc,svc_param, cv=5)\n",
    "svc_grid.fit(train_x, train_y)\n",
    "\n",
    "print(svc_grid.best_params_)\n",
    "print(svc_grid.best_estimator_)\n",
    "print(svc_grid.score(test_x, test_y))"
   ]
  },
  {
   "cell_type": "code",
   "execution_count": 17,
   "id": "81d7e1ac",
   "metadata": {},
   "outputs": [
    {
     "name": "stdout",
     "output_type": "stream",
     "text": [
      "{'criterion': 'gini', 'max_depth': 8}\n",
      "DecisionTreeClassifier(max_depth=8)\n",
      "0.7296\n"
     ]
    }
   ],
   "source": [
    "tree_param = {'max_depth' : [2,4,8], 'criterion' : ['gini', 'entropy']}\n",
    "\n",
    "tree = DecisionTreeClassifier()\n",
    "tree_grid = GridSearchCV(tree,tree_param, cv=5)\n",
    "tree_grid.fit(train_x, train_y)\n",
    "\n",
    "print(tree_grid.best_params_)\n",
    "print(tree_grid.best_estimator_)\n",
    "print(tree_grid.score(test_x, test_y))"
   ]
  },
  {
   "cell_type": "code",
   "execution_count": 18,
   "id": "b917b311",
   "metadata": {},
   "outputs": [
    {
     "name": "stdout",
     "output_type": "stream",
     "text": [
      "{'penalty': 'none'}\n",
      "LogisticRegression(penalty='none')\n",
      "0.8688\n"
     ]
    }
   ],
   "source": [
    "lr_param = {'penalty':['none', 'l2']}\n",
    "\n",
    "lr = LogisticRegression()\n",
    "lr_grid = GridSearchCV(lr,lr_param, cv=5)\n",
    "lr_grid.fit(train_x, train_y)\n",
    "\n",
    "print(lr_grid.best_params_)\n",
    "print(lr_grid.best_estimator_)\n",
    "print(lr_grid.score(test_x, test_y))"
   ]
  },
  {
   "cell_type": "code",
   "execution_count": null,
   "id": "99b15732",
   "metadata": {},
   "outputs": [],
   "source": []
  }
 ],
 "metadata": {
  "kernelspec": {
   "display_name": "Python 3 (ipykernel)",
   "language": "python",
   "name": "python3"
  },
  "language_info": {
   "codemirror_mode": {
    "name": "ipython",
    "version": 3
   },
   "file_extension": ".py",
   "mimetype": "text/x-python",
   "name": "python",
   "nbconvert_exporter": "python",
   "pygments_lexer": "ipython3",
   "version": "3.10.0"
  }
 },
 "nbformat": 4,
 "nbformat_minor": 5
}
